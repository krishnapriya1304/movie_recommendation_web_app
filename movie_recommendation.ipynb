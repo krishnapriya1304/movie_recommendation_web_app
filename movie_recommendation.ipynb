{
 "cells": [
  {
   "cell_type": "code",
   "execution_count": 1,
   "id": "cd016dce",
   "metadata": {},
   "outputs": [
    {
     "name": "stdout",
     "output_type": "stream",
     "text": [
      "         id                        title                     genre  \\\n",
      "0     278.0     The Shawshank Redemption               Drama,Crime   \n",
      "1   19404.0  Dilwale Dulhania Le Jayenge      Comedy,Drama,Romance   \n",
      "2     238.0                The Godfather               Drama,Crime   \n",
      "3     424.0             Schindler's List         Drama,History,War   \n",
      "4     240.0       The Godfather: Part II               Drama,Crime   \n",
      "5  667257.0            Impossible Things              Family,Drama   \n",
      "6     129.0                Spirited Away  Animation,Family,Fantasy   \n",
      "7  730154.0               Your Eyes Tell             Romance,Drama   \n",
      "8  372754.0     Dou kyu sei – Classmates         Romance,Animation   \n",
      "9  372058.0                   Your Name.   Romance,Animation,Drama   \n",
      "\n",
      "  original_language                                           overview  \\\n",
      "0                en  Framed in the 1940s for the double murder of h...   \n",
      "1                hi  Raj is a rich, carefree, happy-go-lucky second...   \n",
      "2                en  Spanning the years 1945 to 1955, a chronicle o...   \n",
      "3                en  The true story of how businessman Oskar Schind...   \n",
      "4                en  In the continuing saga of the Corleone crime f...   \n",
      "5                es  Matilde is a woman who, after the death of her...   \n",
      "6                ja  A young girl, Chihiro, becomes trapped in a st...   \n",
      "7                ja  A tragic accident lead to Kaori's blindness, b...   \n",
      "8                ja  Rihito Sajo, an honor student with a perfect s...   \n",
      "9                ja  High schoolers Mitsuha and Taki are complete s...   \n",
      "\n",
      "   popularity release_date  vote_average  vote_count  \n",
      "0      94.075   1994-09-23           8.7       21862  \n",
      "1      25.408   1995-10-19           8.7        3731  \n",
      "2      90.585   1972-03-14           8.7       16280  \n",
      "3      44.761   1993-12-15           8.6       12959  \n",
      "4      57.749   1974-12-20           8.6        9811  \n",
      "5      14.358   2021-06-17           8.6         255  \n",
      "6      92.056   2001-07-20           8.5       13093  \n",
      "7      51.345   2020-10-23           8.5         339  \n",
      "8      14.285   2016-02-20           8.5         239  \n",
      "9     158.270   2016-08-26           8.5        8895  \n",
      "                  id    popularity  vote_average    vote_count\n",
      "count    9999.000000  10000.000000  10000.000000  10000.000000\n",
      "mean   161196.094409     34.697267      6.621150   1547.309400\n",
      "std    211379.451428    211.684175      0.766231   2648.295789\n",
      "min         5.000000      0.600000      4.600000    200.000000\n",
      "25%     10127.500000      9.154750      6.100000    315.000000\n",
      "50%     29987.000000     13.637500      6.600000    583.500000\n",
      "75%    310132.000000     25.651250      7.200000   1460.000000\n",
      "max    934761.000000  10436.917000      8.700000  31917.000000\n",
      "<class 'pandas.core.frame.DataFrame'>\n",
      "RangeIndex: 10000 entries, 0 to 9999\n",
      "Data columns (total 9 columns):\n",
      " #   Column             Non-Null Count  Dtype  \n",
      "---  ------             --------------  -----  \n",
      " 0   id                 9999 non-null   float64\n",
      " 1   title              10000 non-null  object \n",
      " 2   genre              9997 non-null   object \n",
      " 3   original_language  10000 non-null  object \n",
      " 4   overview           9987 non-null   object \n",
      " 5   popularity         10000 non-null  float64\n",
      " 6   release_date       10000 non-null  object \n",
      " 7   vote_average       10000 non-null  float64\n",
      " 8   vote_count         10000 non-null  int64  \n",
      "dtypes: float64(3), int64(1), object(5)\n",
      "memory usage: 703.2+ KB\n",
      "None\n",
      "id                    1\n",
      "title                 0\n",
      "genre                 3\n",
      "original_language     0\n",
      "overview             13\n",
      "popularity            0\n",
      "release_date          0\n",
      "vote_average          0\n",
      "vote_count            0\n",
      "dtype: int64\n",
      "Index(['id', 'title', 'genre', 'original_language', 'overview', 'popularity',\n",
      "       'release_date', 'vote_average', 'vote_count'],\n",
      "      dtype='object')\n"
     ]
    }
   ],
   "source": [
    "import pandas as pd\n",
    "from sklearn.feature_extraction.text import CountVectorizer\n",
    "from sklearn.metrics.pairwise import cosine_similarity\n",
    "import pickle\n",
    "\n",
    "# Load dataset\n",
    "movies = pd.read_csv(r\"C:\\Users\\nivi1\\Downloads\\dataset.csv\")\n",
    "print(movies.head(10))\n",
    "print(movies.describe())\n",
    "print(movies.info())\n",
    "print(movies.isnull().sum())\n",
    "print(movies.columns)\n",
    "\n"
   ]
  },
  {
   "cell_type": "code",
   "execution_count": 2,
   "id": "89622cc1",
   "metadata": {},
   "outputs": [
    {
     "name": "stdout",
     "output_type": "stream",
     "text": [
      "            id                                          title  \\\n",
      "0        278.0                       The Shawshank Redemption   \n",
      "1      19404.0                    Dilwale Dulhania Le Jayenge   \n",
      "2        238.0                                  The Godfather   \n",
      "3        424.0                               Schindler's List   \n",
      "4        240.0                         The Godfather: Part II   \n",
      "...        ...                                            ...   \n",
      "9995   10196.0                             The Last Airbender   \n",
      "9996  331446.0                       Sharknado 3: Oh Hell No!   \n",
      "9997   13995.0                                Captain America   \n",
      "9998    2312.0  In the Name of the King: A Dungeon Siege Tale   \n",
      "9999  455957.0                                         Domino   \n",
      "\n",
      "                                               overview  \\\n",
      "0     Framed in the 1940s for the double murder of h...   \n",
      "1     Raj is a rich, carefree, happy-go-lucky second...   \n",
      "2     Spanning the years 1945 to 1955, a chronicle o...   \n",
      "3     The true story of how businessman Oskar Schind...   \n",
      "4     In the continuing saga of the Corleone crime f...   \n",
      "...                                                 ...   \n",
      "9995  The story follows the adventures of Aang, a yo...   \n",
      "9996  The sharks take bite out of the East Coast whe...   \n",
      "9997  During World War II, a brave, patriotic Americ...   \n",
      "9998  A man named Farmer sets out to rescue his kidn...   \n",
      "9999  Seeking justice for his partner’s murder by an...   \n",
      "\n",
      "                                                 genre  \n",
      "0                                          Drama,Crime  \n",
      "1                                 Comedy,Drama,Romance  \n",
      "2                                          Drama,Crime  \n",
      "3                                    Drama,History,War  \n",
      "4                                          Drama,Crime  \n",
      "...                                                ...  \n",
      "9995                          Action,Adventure,Fantasy  \n",
      "9996  Action,TV Movie,Science Fiction,Comedy,Adventure  \n",
      "9997                        Action,Science Fiction,War  \n",
      "9998                    Adventure,Fantasy,Action,Drama  \n",
      "9999                             Thriller,Action,Crime  \n",
      "\n",
      "[10000 rows x 4 columns]\n"
     ]
    }
   ],
   "source": [
    "# Selecting required columns\n",
    "movies = movies[['id', 'title', 'overview', 'genre']]\n",
    "print(movies)\n"
   ]
  },
  {
   "cell_type": "code",
   "execution_count": 3,
   "id": "753a0a21",
   "metadata": {},
   "outputs": [
    {
     "name": "stdout",
     "output_type": "stream",
     "text": [
      "            id                                          title  \\\n",
      "0        278.0                       The Shawshank Redemption   \n",
      "1      19404.0                    Dilwale Dulhania Le Jayenge   \n",
      "2        238.0                                  The Godfather   \n",
      "3        424.0                               Schindler's List   \n",
      "4        240.0                         The Godfather: Part II   \n",
      "...        ...                                            ...   \n",
      "9995   10196.0                             The Last Airbender   \n",
      "9996  331446.0                       Sharknado 3: Oh Hell No!   \n",
      "9997   13995.0                                Captain America   \n",
      "9998    2312.0  In the Name of the King: A Dungeon Siege Tale   \n",
      "9999  455957.0                                         Domino   \n",
      "\n",
      "                                               overview  \\\n",
      "0     Framed in the 1940s for the double murder of h...   \n",
      "1     Raj is a rich, carefree, happy-go-lucky second...   \n",
      "2     Spanning the years 1945 to 1955, a chronicle o...   \n",
      "3     The true story of how businessman Oskar Schind...   \n",
      "4     In the continuing saga of the Corleone crime f...   \n",
      "...                                                 ...   \n",
      "9995  The story follows the adventures of Aang, a yo...   \n",
      "9996  The sharks take bite out of the East Coast whe...   \n",
      "9997  During World War II, a brave, patriotic Americ...   \n",
      "9998  A man named Farmer sets out to rescue his kidn...   \n",
      "9999  Seeking justice for his partner’s murder by an...   \n",
      "\n",
      "                                                 genre  \\\n",
      "0                                          Drama,Crime   \n",
      "1                                 Comedy,Drama,Romance   \n",
      "2                                          Drama,Crime   \n",
      "3                                    Drama,History,War   \n",
      "4                                          Drama,Crime   \n",
      "...                                                ...   \n",
      "9995                          Action,Adventure,Fantasy   \n",
      "9996  Action,TV Movie,Science Fiction,Comedy,Adventure   \n",
      "9997                        Action,Science Fiction,War   \n",
      "9998                    Adventure,Fantasy,Action,Drama   \n",
      "9999                             Thriller,Action,Crime   \n",
      "\n",
      "                                                   tags  \n",
      "0     Framed in the 1940s for the double murder of h...  \n",
      "1     Raj is a rich, carefree, happy-go-lucky second...  \n",
      "2     Spanning the years 1945 to 1955, a chronicle o...  \n",
      "3     The true story of how businessman Oskar Schind...  \n",
      "4     In the continuing saga of the Corleone crime f...  \n",
      "...                                                 ...  \n",
      "9995  The story follows the adventures of Aang, a yo...  \n",
      "9996  The sharks take bite out of the East Coast whe...  \n",
      "9997  During World War II, a brave, patriotic Americ...  \n",
      "9998  A man named Farmer sets out to rescue his kidn...  \n",
      "9999  Seeking justice for his partner’s murder by an...  \n",
      "\n",
      "[10000 rows x 5 columns]\n"
     ]
    }
   ],
   "source": [
    "# Create new column 'tags'\n",
    "movies['tags'] = movies['overview'] + movies['genre']\n",
    "print(movies)"
   ]
  },
  {
   "cell_type": "code",
   "execution_count": 4,
   "id": "627bccbc",
   "metadata": {},
   "outputs": [
    {
     "name": "stdout",
     "output_type": "stream",
     "text": [
      "            id                                          title  \\\n",
      "0        278.0                       The Shawshank Redemption   \n",
      "1      19404.0                    Dilwale Dulhania Le Jayenge   \n",
      "2        238.0                                  The Godfather   \n",
      "3        424.0                               Schindler's List   \n",
      "4        240.0                         The Godfather: Part II   \n",
      "...        ...                                            ...   \n",
      "9995   10196.0                             The Last Airbender   \n",
      "9996  331446.0                       Sharknado 3: Oh Hell No!   \n",
      "9997   13995.0                                Captain America   \n",
      "9998    2312.0  In the Name of the King: A Dungeon Siege Tale   \n",
      "9999  455957.0                                         Domino   \n",
      "\n",
      "                                                   tags  \n",
      "0     Framed in the 1940s for the double murder of h...  \n",
      "1     Raj is a rich, carefree, happy-go-lucky second...  \n",
      "2     Spanning the years 1945 to 1955, a chronicle o...  \n",
      "3     The true story of how businessman Oskar Schind...  \n",
      "4     In the continuing saga of the Corleone crime f...  \n",
      "...                                                 ...  \n",
      "9995  The story follows the adventures of Aang, a yo...  \n",
      "9996  The sharks take bite out of the East Coast whe...  \n",
      "9997  During World War II, a brave, patriotic Americ...  \n",
      "9998  A man named Farmer sets out to rescue his kidn...  \n",
      "9999  Seeking justice for his partner’s murder by an...  \n",
      "\n",
      "[10000 rows x 3 columns]\n"
     ]
    }
   ],
   "source": [
    "# Drop unnecessary columns\n",
    "new_data = movies.drop(columns=['overview', 'genre'])\n",
    "print(new_data)"
   ]
  },
  {
   "cell_type": "code",
   "execution_count": 5,
   "id": "9f6bfd6d",
   "metadata": {},
   "outputs": [
    {
     "name": "stdout",
     "output_type": "stream",
     "text": [
      "(10000, 10000)\n"
     ]
    }
   ],
   "source": [
    "# Text vectorization\n",
    "cv = CountVectorizer(max_features=10000, stop_words='english')\n",
    "vector = cv.fit_transform(new_data['tags'].values.astype('U')).toarray()\n",
    "print(vector.shape)"
   ]
  },
  {
   "cell_type": "code",
   "execution_count": 6,
   "id": "f3174240",
   "metadata": {},
   "outputs": [
    {
     "name": "stdout",
     "output_type": "stream",
     "text": [
      "[[1.         0.05634362 0.12888482 ... 0.07559289 0.11065667 0.06388766]\n",
      " [0.05634362 1.         0.07624929 ... 0.         0.03636965 0.        ]\n",
      " [0.12888482 0.07624929 1.         ... 0.02273314 0.06655583 0.08645856]\n",
      " ...\n",
      " [0.07559289 0.         0.02273314 ... 1.         0.03253    0.02817181]\n",
      " [0.11065667 0.03636965 0.06655583 ... 0.03253    1.         0.0412393 ]\n",
      " [0.06388766 0.         0.08645856 ... 0.02817181 0.0412393  1.        ]]\n"
     ]
    }
   ],
   "source": [
    "\n",
    "# Cosine similarity\n",
    "similarity = cosine_similarity(vector)\n",
    "print(similarity)\n"
   ]
  },
  {
   "cell_type": "code",
   "execution_count": 7,
   "id": "f6c29a58",
   "metadata": {},
   "outputs": [
    {
     "name": "stdout",
     "output_type": "stream",
     "text": [
      "2\n"
     ]
    }
   ],
   "source": [
    "# Example index lookup\n",
    "print(new_data[new_data['title'] == \"The Godfather\"].index[0])"
   ]
  },
  {
   "cell_type": "code",
   "execution_count": 8,
   "id": "f44f2bdc",
   "metadata": {},
   "outputs": [
    {
     "name": "stdout",
     "output_type": "stream",
     "text": [
      "The Godfather\n",
      "The Godfather: Part II\n",
      "Blood Ties\n",
      "Joker\n",
      "Bomb City\n"
     ]
    }
   ],
   "source": [
    "# Show top 5 recommendations for \"The Godfather\"\n",
    "distance = sorted(list(enumerate(similarity[2])), reverse=True, key=lambda vector: vector[1])\n",
    "for i in distance[0:5]:\n",
    "    print(new_data.iloc[i[0]].title)\n"
   ]
  },
  {
   "cell_type": "code",
   "execution_count": 10,
   "id": "966fe5f8",
   "metadata": {},
   "outputs": [],
   "source": [
    "# Recommender function\n",
    "def recommand(movies):\n",
    "    index = new_data[new_data['title'] == movies].index[0]\n",
    "    distance = sorted(list(enumerate(similarity[index])), reverse=True, key=lambda vector: vector[1])\n",
    "    for i in distance[0:5]:\n",
    "        print(new_data.iloc[i[0]].title)"
   ]
  },
  {
   "cell_type": "code",
   "execution_count": 11,
   "id": "8a11514e",
   "metadata": {},
   "outputs": [
    {
     "name": "stdout",
     "output_type": "stream",
     "text": [
      "Iron Man\n",
      "Iron Man 3\n",
      "Guardians of the Galaxy Vol. 2\n",
      "Avengers: Age of Ultron\n",
      "Star Wars: Episode III - Revenge of the Sith\n"
     ]
    }
   ],
   "source": [
    "# Test the recommender\n",
    "recommand(\"Iron Man\")\n",
    "\n",
    "# Save files with pickle\n",
    "pickle.dump(new_data, open('movies_list.pkl', 'wb'))\n",
    "pickle.dump(similarity, open('similarity_list.pkl', 'wb'))"
   ]
  },
  {
   "cell_type": "code",
   "execution_count": null,
   "id": "b3d53128",
   "metadata": {},
   "outputs": [],
   "source": []
  }
 ],
 "metadata": {
  "kernelspec": {
   "display_name": "Python 3 (ipykernel)",
   "language": "python",
   "name": "python3"
  },
  "language_info": {
   "codemirror_mode": {
    "name": "ipython",
    "version": 3
   },
   "file_extension": ".py",
   "mimetype": "text/x-python",
   "name": "python",
   "nbconvert_exporter": "python",
   "pygments_lexer": "ipython3",
   "version": "3.9.12"
  }
 },
 "nbformat": 4,
 "nbformat_minor": 5
}
